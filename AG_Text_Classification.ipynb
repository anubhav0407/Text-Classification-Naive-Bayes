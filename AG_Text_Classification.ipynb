{
 "cells": [
  {
   "cell_type": "markdown",
   "metadata": {},
   "source": [
    "# ADA Project"
   ]
  },
  {
   "cell_type": "markdown",
   "metadata": {},
   "source": [
    "# Text Classification using Naive Bayes"
   ]
  },
  {
   "cell_type": "markdown",
   "metadata": {},
   "source": [
    "## Anubhav Gupta, DTU"
   ]
  },
  {
   "cell_type": "code",
   "execution_count": 1,
   "metadata": {},
   "outputs": [],
   "source": [
    "import numpy as np\n",
    "import pandas as pd\n",
    "import nltk\n",
    "from nltk.corpus import stopwords\n",
    "import string"
   ]
  },
  {
   "cell_type": "code",
   "execution_count": null,
   "metadata": {},
   "outputs": [],
   "source": [
    " "
   ]
  },
  {
   "cell_type": "code",
   "execution_count": 2,
   "metadata": {},
   "outputs": [
    {
     "data": {
      "text/html": [
       "<div>\n",
       "<style scoped>\n",
       "    .dataframe tbody tr th:only-of-type {\n",
       "        vertical-align: middle;\n",
       "    }\n",
       "\n",
       "    .dataframe tbody tr th {\n",
       "        vertical-align: top;\n",
       "    }\n",
       "\n",
       "    .dataframe thead th {\n",
       "        text-align: right;\n",
       "    }\n",
       "</style>\n",
       "<table border=\"1\" class=\"dataframe\">\n",
       "  <thead>\n",
       "    <tr style=\"text-align: right;\">\n",
       "      <th></th>\n",
       "      <th>headline</th>\n",
       "      <th>category</th>\n",
       "      <th>authors</th>\n",
       "      <th>short_description</th>\n",
       "    </tr>\n",
       "  </thead>\n",
       "  <tbody>\n",
       "    <tr>\n",
       "      <th>0</th>\n",
       "      <td>There Were 2 Mass Shootings In Texas Last Wee...</td>\n",
       "      <td>CRIME</td>\n",
       "      <td>Melissa Jeltsen</td>\n",
       "      <td>She left her husband. He killed their childre...</td>\n",
       "    </tr>\n",
       "    <tr>\n",
       "      <th>1</th>\n",
       "      <td>Will Smith Joins Diplo And Nicky Jam For The ...</td>\n",
       "      <td>ENTERTAINMENT</td>\n",
       "      <td>Andy McDonald</td>\n",
       "      <td>Of course it has a song.</td>\n",
       "    </tr>\n",
       "    <tr>\n",
       "      <th>2</th>\n",
       "      <td>Hugh Grant Marries For The First Time At Age ...</td>\n",
       "      <td>ENTERTAINMENT</td>\n",
       "      <td>Ron Dicker</td>\n",
       "      <td>The actor and his longtime girlfriend Anna Eb...</td>\n",
       "    </tr>\n",
       "    <tr>\n",
       "      <th>3</th>\n",
       "      <td>Jim Carrey Blasts 'Castrato' Adam Schiff And ...</td>\n",
       "      <td>ENTERTAINMENT</td>\n",
       "      <td>Ron Dicker</td>\n",
       "      <td>The actor gives Dems an ass-kicking for not f...</td>\n",
       "    </tr>\n",
       "    <tr>\n",
       "      <th>4</th>\n",
       "      <td>Julianna Margulies Uses Donald Trump Poop Bag...</td>\n",
       "      <td>ENTERTAINMENT</td>\n",
       "      <td>Ron Dicker</td>\n",
       "      <td>The Dietland actress said using the bags is a...</td>\n",
       "    </tr>\n",
       "  </tbody>\n",
       "</table>\n",
       "</div>"
      ],
      "text/plain": [
       "                                            headline          category  \\\n",
       "0   There Were 2 Mass Shootings In Texas Last Wee...           CRIME     \n",
       "1   Will Smith Joins Diplo And Nicky Jam For The ...   ENTERTAINMENT     \n",
       "2   Hugh Grant Marries For The First Time At Age ...   ENTERTAINMENT     \n",
       "3   Jim Carrey Blasts 'Castrato' Adam Schiff And ...   ENTERTAINMENT     \n",
       "4   Julianna Margulies Uses Donald Trump Poop Bag...   ENTERTAINMENT     \n",
       "\n",
       "              authors                                  short_description  \n",
       "0   Melissa Jeltsen     She left her husband. He killed their childre...  \n",
       "1     Andy McDonald                            Of course it has a song.   \n",
       "2        Ron Dicker     The actor and his longtime girlfriend Anna Eb...  \n",
       "3        Ron Dicker     The actor gives Dems an ass-kicking for not f...  \n",
       "4        Ron Dicker     The Dietland actress said using the bags is a...  "
      ]
     },
     "execution_count": 2,
     "metadata": {},
     "output_type": "execute_result"
    }
   ],
   "source": [
    "# Loading the dataset in dataframe df\n",
    "df=pd.read_csv('news.csv')\n",
    "\n",
    "df.head(5)"
   ]
  },
  {
   "cell_type": "code",
   "execution_count": 1,
   "metadata": {},
   "outputs": [],
   "source": [
    "#[df['category'].tolist()]"
   ]
  },
  {
   "cell_type": "code",
   "execution_count": 4,
   "metadata": {},
   "outputs": [],
   "source": [
    "df.drop('headline',axis=1,inplace=True)"
   ]
  },
  {
   "cell_type": "code",
   "execution_count": 5,
   "metadata": {},
   "outputs": [],
   "source": [
    "df.drop('authors',axis=1,inplace=True)"
   ]
  },
  {
   "cell_type": "code",
   "execution_count": 6,
   "metadata": {},
   "outputs": [
    {
     "data": {
      "text/html": [
       "<div>\n",
       "<style scoped>\n",
       "    .dataframe tbody tr th:only-of-type {\n",
       "        vertical-align: middle;\n",
       "    }\n",
       "\n",
       "    .dataframe tbody tr th {\n",
       "        vertical-align: top;\n",
       "    }\n",
       "\n",
       "    .dataframe thead th {\n",
       "        text-align: right;\n",
       "    }\n",
       "</style>\n",
       "<table border=\"1\" class=\"dataframe\">\n",
       "  <thead>\n",
       "    <tr style=\"text-align: right;\">\n",
       "      <th></th>\n",
       "      <th>category</th>\n",
       "      <th>short_description</th>\n",
       "    </tr>\n",
       "  </thead>\n",
       "  <tbody>\n",
       "    <tr>\n",
       "      <th>0</th>\n",
       "      <td>CRIME</td>\n",
       "      <td>She left her husband. He killed their childre...</td>\n",
       "    </tr>\n",
       "    <tr>\n",
       "      <th>1</th>\n",
       "      <td>ENTERTAINMENT</td>\n",
       "      <td>Of course it has a song.</td>\n",
       "    </tr>\n",
       "    <tr>\n",
       "      <th>2</th>\n",
       "      <td>ENTERTAINMENT</td>\n",
       "      <td>The actor and his longtime girlfriend Anna Eb...</td>\n",
       "    </tr>\n",
       "    <tr>\n",
       "      <th>3</th>\n",
       "      <td>ENTERTAINMENT</td>\n",
       "      <td>The actor gives Dems an ass-kicking for not f...</td>\n",
       "    </tr>\n",
       "    <tr>\n",
       "      <th>4</th>\n",
       "      <td>ENTERTAINMENT</td>\n",
       "      <td>The Dietland actress said using the bags is a...</td>\n",
       "    </tr>\n",
       "  </tbody>\n",
       "</table>\n",
       "</div>"
      ],
      "text/plain": [
       "           category                                  short_description\n",
       "0           CRIME     She left her husband. He killed their childre...\n",
       "1   ENTERTAINMENT                            Of course it has a song. \n",
       "2   ENTERTAINMENT     The actor and his longtime girlfriend Anna Eb...\n",
       "3   ENTERTAINMENT     The actor gives Dems an ass-kicking for not f...\n",
       "4   ENTERTAINMENT     The Dietland actress said using the bags is a..."
      ]
     },
     "execution_count": 6,
     "metadata": {},
     "output_type": "execute_result"
    }
   ],
   "source": [
    " df.head()"
   ]
  },
  {
   "cell_type": "code",
   "execution_count": null,
   "metadata": {},
   "outputs": [],
   "source": [
    " "
   ]
  },
  {
   "cell_type": "code",
   "execution_count": 7,
   "metadata": {},
   "outputs": [
    {
     "data": {
      "text/plain": [
       " POLITICS            32739\n",
       " WELLNESS            17827\n",
       " ENTERTAINMENT       16058\n",
       " TRAVEL               9887\n",
       " STYLE & BEAUTY       9649\n",
       " PARENTING            8677\n",
       " HEALTHY LIVING       6694\n",
       " QUEER VOICES         6314\n",
       " FOOD & DRINK         6226\n",
       " BUSINESS             5937\n",
       " COMEDY               5175\n",
       " SPORTS               4884\n",
       " BLACK VOICES         4528\n",
       " HOME & LIVING        4195\n",
       " PARENTS              3955\n",
       " THE WORLDPOST        3664\n",
       " WEDDINGS             3651\n",
       " WOMEN                3490\n",
       " IMPACT               3459\n",
       " DIVORCE              3426\n",
       " CRIME                3405\n",
       " MEDIA                2815\n",
       " WEIRD NEWS           2670\n",
       " GREEN                2622\n",
       " WORLDPOST            2579\n",
       " RELIGION             2556\n",
       " STYLE                2254\n",
       " SCIENCE              2178\n",
       " WORLD NEWS           2177\n",
       " TASTE                2096\n",
       " TECH                 2082\n",
       " MONEY                1707\n",
       " ARTS                 1509\n",
       " FIFTY                1401\n",
       " GOOD NEWS            1398\n",
       " ARTS & CULTURE       1339\n",
       " ENVIRONMENT          1323\n",
       " COLLEGE              1144\n",
       " LATINO VOICES        1129\n",
       " CULTURE & ARTS       1030\n",
       " EDUCATION            1004\n",
       "Name: category, dtype: int64"
      ]
     },
     "execution_count": 7,
     "metadata": {},
     "output_type": "execute_result"
    }
   ],
   "source": [
    "df['category'].value_counts()"
   ]
  },
  {
   "cell_type": "code",
   "execution_count": 8,
   "metadata": {},
   "outputs": [
    {
     "data": {
      "text/plain": [
       "(200853, 2)"
      ]
     },
     "execution_count": 8,
     "metadata": {},
     "output_type": "execute_result"
    }
   ],
   "source": [
    "df.shape"
   ]
  },
  {
   "cell_type": "code",
   "execution_count": 9,
   "metadata": {},
   "outputs": [],
   "source": [
    "categories_to_add = [' ENTERTAINMENT  ',' POLITICS  ', ' SPORTS  ',' SCIENCE  ']\n",
    "dfs=[]\n",
    "for cat in categories_to_add:\n",
    "    dfs.append(df.loc[df['category'] == cat])"
   ]
  },
  {
   "cell_type": "code",
   "execution_count": 10,
   "metadata": {},
   "outputs": [],
   "source": [
    "df_final=pd.concat(dfs)"
   ]
  },
  {
   "cell_type": "code",
   "execution_count": 11,
   "metadata": {},
   "outputs": [
    {
     "data": {
      "text/html": [
       "<div>\n",
       "<style scoped>\n",
       "    .dataframe tbody tr th:only-of-type {\n",
       "        vertical-align: middle;\n",
       "    }\n",
       "\n",
       "    .dataframe tbody tr th {\n",
       "        vertical-align: top;\n",
       "    }\n",
       "\n",
       "    .dataframe thead th {\n",
       "        text-align: right;\n",
       "    }\n",
       "</style>\n",
       "<table border=\"1\" class=\"dataframe\">\n",
       "  <thead>\n",
       "    <tr style=\"text-align: right;\">\n",
       "      <th></th>\n",
       "      <th>category</th>\n",
       "      <th>short_description</th>\n",
       "    </tr>\n",
       "  </thead>\n",
       "  <tbody>\n",
       "    <tr>\n",
       "      <th>1</th>\n",
       "      <td>ENTERTAINMENT</td>\n",
       "      <td>Of course it has a song.</td>\n",
       "    </tr>\n",
       "    <tr>\n",
       "      <th>2</th>\n",
       "      <td>ENTERTAINMENT</td>\n",
       "      <td>The actor and his longtime girlfriend Anna Eb...</td>\n",
       "    </tr>\n",
       "    <tr>\n",
       "      <th>3</th>\n",
       "      <td>ENTERTAINMENT</td>\n",
       "      <td>The actor gives Dems an ass-kicking for not f...</td>\n",
       "    </tr>\n",
       "    <tr>\n",
       "      <th>4</th>\n",
       "      <td>ENTERTAINMENT</td>\n",
       "      <td>The Dietland actress said using the bags is a...</td>\n",
       "    </tr>\n",
       "    <tr>\n",
       "      <th>5</th>\n",
       "      <td>ENTERTAINMENT</td>\n",
       "      <td>It is not right to equate horrific incidents ...</td>\n",
       "    </tr>\n",
       "    <tr>\n",
       "      <th>...</th>\n",
       "      <td>...</td>\n",
       "      <td>...</td>\n",
       "    </tr>\n",
       "    <tr>\n",
       "      <th>200754</th>\n",
       "      <td>SCIENCE</td>\n",
       "      <td>Because of the overuse of antibiotics antibio...</td>\n",
       "    </tr>\n",
       "    <tr>\n",
       "      <th>200815</th>\n",
       "      <td>SCIENCE</td>\n",
       "      <td>Gallery</td>\n",
       "    </tr>\n",
       "    <tr>\n",
       "      <th>200816</th>\n",
       "      <td>SCIENCE</td>\n",
       "      <td>image 1</td>\n",
       "    </tr>\n",
       "    <tr>\n",
       "      <th>200817</th>\n",
       "      <td>SCIENCE</td>\n",
       "      <td>That doesn't mean Jobs lacks for fans in the ...</td>\n",
       "    </tr>\n",
       "    <tr>\n",
       "      <th>200818</th>\n",
       "      <td>SCIENCE</td>\n",
       "      <td>Aurora borealis can typically only be seen at...</td>\n",
       "    </tr>\n",
       "  </tbody>\n",
       "</table>\n",
       "<p>55859 rows × 2 columns</p>\n",
       "</div>"
      ],
      "text/plain": [
       "                category                                  short_description\n",
       "1        ENTERTAINMENT                            Of course it has a song. \n",
       "2        ENTERTAINMENT     The actor and his longtime girlfriend Anna Eb...\n",
       "3        ENTERTAINMENT     The actor gives Dems an ass-kicking for not f...\n",
       "4        ENTERTAINMENT     The Dietland actress said using the bags is a...\n",
       "5        ENTERTAINMENT     It is not right to equate horrific incidents ...\n",
       "...                  ...                                                ...\n",
       "200754         SCIENCE     Because of the overuse of antibiotics antibio...\n",
       "200815         SCIENCE                                              Gallery\n",
       "200816         SCIENCE                                              image 1\n",
       "200817         SCIENCE     That doesn't mean Jobs lacks for fans in the ...\n",
       "200818         SCIENCE     Aurora borealis can typically only be seen at...\n",
       "\n",
       "[55859 rows x 2 columns]"
      ]
     },
     "execution_count": 11,
     "metadata": {},
     "output_type": "execute_result"
    }
   ],
   "source": [
    "df_final"
   ]
  },
  {
   "cell_type": "code",
   "execution_count": 12,
   "metadata": {},
   "outputs": [
    {
     "data": {
      "text/plain": [
       "(55859, 2)"
      ]
     },
     "execution_count": 12,
     "metadata": {},
     "output_type": "execute_result"
    }
   ],
   "source": [
    "df_final.shape"
   ]
  },
  {
   "cell_type": "code",
   "execution_count": 13,
   "metadata": {},
   "outputs": [],
   "source": [
    "from sklearn.preprocessing import LabelEncoder\n",
    "le = LabelEncoder()\n",
    "df_final.category= le.fit_transform(df_final.category.values)"
   ]
  },
  {
   "cell_type": "code",
   "execution_count": 14,
   "metadata": {},
   "outputs": [
    {
     "data": {
      "text/plain": [
       "1    32739\n",
       "0    16058\n",
       "3     4884\n",
       "2     2178\n",
       "Name: category, dtype: int64"
      ]
     },
     "execution_count": 14,
     "metadata": {},
     "output_type": "execute_result"
    }
   ],
   "source": [
    "df_final['category'].value_counts()"
   ]
  },
  {
   "cell_type": "code",
   "execution_count": 15,
   "metadata": {},
   "outputs": [],
   "source": [
    "# Permanently deleting the redundant data\n",
    "df_final.drop_duplicates(inplace=True)\n"
   ]
  },
  {
   "cell_type": "code",
   "execution_count": 16,
   "metadata": {},
   "outputs": [
    {
     "data": {
      "text/plain": [
       "(49251, 2)"
      ]
     },
     "execution_count": 16,
     "metadata": {},
     "output_type": "execute_result"
    }
   ],
   "source": [
    "#New shape of dataset\n",
    "df_final.shape"
   ]
  },
  {
   "cell_type": "code",
   "execution_count": 17,
   "metadata": {},
   "outputs": [
    {
     "data": {
      "text/plain": [
       "category             0\n",
       "short_description    0\n",
       "dtype: int64"
      ]
     },
     "execution_count": 17,
     "metadata": {},
     "output_type": "execute_result"
    }
   ],
   "source": [
    "df_final.isnull().sum() #check if null values"
   ]
  },
  {
   "cell_type": "code",
   "execution_count": 18,
   "metadata": {},
   "outputs": [
    {
     "data": {
      "text/plain": [
       "1    29676\n",
       "0    13461\n",
       "3     4309\n",
       "2     1805\n",
       "Name: category, dtype: int64"
      ]
     },
     "execution_count": 18,
     "metadata": {},
     "output_type": "execute_result"
    }
   ],
   "source": [
    "df_final['category'].value_counts()"
   ]
  },
  {
   "cell_type": "code",
   "execution_count": 19,
   "metadata": {},
   "outputs": [
    {
     "name": "stderr",
     "output_type": "stream",
     "text": [
      "[nltk_data] Downloading package stopwords to C:\\Users\\ANUBHAV\n",
      "[nltk_data]     GUPTA\\AppData\\Roaming\\nltk_data...\n",
      "[nltk_data]   Package stopwords is already up-to-date!\n"
     ]
    },
    {
     "data": {
      "text/plain": [
       "True"
      ]
     },
     "execution_count": 19,
     "metadata": {},
     "output_type": "execute_result"
    }
   ],
   "source": [
    "nltk.download('stopwords')"
   ]
  },
  {
   "cell_type": "code",
   "execution_count": 20,
   "metadata": {},
   "outputs": [],
   "source": [
    "from nltk.stem import PorterStemmer\n",
    "ps=PorterStemmer()"
   ]
  },
  {
   "cell_type": "code",
   "execution_count": 21,
   "metadata": {},
   "outputs": [],
   "source": [
    "def process_text(text):\n",
    "    # remove all punctuations  \n",
    "    punc_less=[ch for ch in text if ch not in string.punctuation]\n",
    "    punc_less=''.join(punc_less)\n",
    "    \n",
    "    #remove all numerical values\n",
    "    res = ''.join([i for i in punc_less if not i.isdigit()])\n",
    "    \n",
    "    # remove all stopwords\n",
    "    new_words=[word for word in res.split() if word.lower() not in stopwords.words('english')]\n",
    "    \n",
    "    #apply stemming \n",
    "    final_words=[ps.stem(w) for w in new_words]\n",
    "    \n",
    "    return final_words\n"
   ]
  },
  {
   "cell_type": "code",
   "execution_count": 22,
   "metadata": {},
   "outputs": [
    {
     "data": {
      "text/plain": [
       "['hello', 'phone', 'visit', 'visit', 'world', 'number', 'program', 'program']"
      ]
     },
     "execution_count": 22,
     "metadata": {},
     "output_type": "execute_result"
    }
   ],
   "source": [
    "#Example to show working of our function\n",
    "process_text('hello 3344 [phone] visited , visits 112 worlds: 345661 on a this is number prograMIng program')"
   ]
  },
  {
   "cell_type": "markdown",
   "metadata": {},
   "source": [
    "# Splitting the Data"
   ]
  },
  {
   "cell_type": "code",
   "execution_count": 23,
   "metadata": {},
   "outputs": [],
   "source": [
    "from sklearn.model_selection import train_test_split\n",
    "X_train,X_test,y_train,y_test=train_test_split(df_final['short_description'],df_final['category'],test_size=0.20,random_state=18)"
   ]
  },
  {
   "cell_type": "markdown",
   "metadata": {},
   "source": [
    "# Building the model"
   ]
  },
  {
   "cell_type": "code",
   "execution_count": 24,
   "metadata": {},
   "outputs": [],
   "source": [
    "from sklearn.feature_extraction.text import CountVectorizer\n",
    "temp_train_bow=CountVectorizer(analyzer=process_text).fit(X_train)"
   ]
  },
  {
   "cell_type": "code",
   "execution_count": 25,
   "metadata": {},
   "outputs": [],
   "source": [
    "train_bow=temp_train_bow.transform(X_train)"
   ]
  },
  {
   "cell_type": "code",
   "execution_count": 26,
   "metadata": {},
   "outputs": [
    {
     "data": {
      "text/plain": [
       "(39400, 29927)"
      ]
     },
     "execution_count": 26,
     "metadata": {},
     "output_type": "execute_result"
    }
   ],
   "source": [
    "train_bow.shape"
   ]
  },
  {
   "cell_type": "code",
   "execution_count": 27,
   "metadata": {},
   "outputs": [],
   "source": [
    "temp_test_bow=CountVectorizer(analyzer=process_text).fit(X_train)#need to remove not needed can use temp_train_bow only"
   ]
  },
  {
   "cell_type": "code",
   "execution_count": 28,
   "metadata": {},
   "outputs": [],
   "source": [
    "test_bow=temp_test_bow.transform(X_test)"
   ]
  },
  {
   "cell_type": "code",
   "execution_count": 29,
   "metadata": {},
   "outputs": [
    {
     "data": {
      "text/plain": [
       "(9851, 29927)"
      ]
     },
     "execution_count": 29,
     "metadata": {},
     "output_type": "execute_result"
    }
   ],
   "source": [
    "test_bow.shape"
   ]
  },
  {
   "cell_type": "code",
   "execution_count": 30,
   "metadata": {},
   "outputs": [],
   "source": [
    "# Creating and Training of the Naive Bayes Model\n",
    "from sklearn.naive_bayes import MultinomialNB"
   ]
  },
  {
   "cell_type": "code",
   "execution_count": 31,
   "metadata": {},
   "outputs": [],
   "source": [
    "clf_bow=MultinomialNB().fit(train_bow,y_train)"
   ]
  },
  {
   "cell_type": "code",
   "execution_count": 32,
   "metadata": {},
   "outputs": [],
   "source": [
    "# Measuring the performance of our model on train data\n",
    "from sklearn.metrics import classification_report,confusion_matrix,accuracy_score"
   ]
  },
  {
   "cell_type": "code",
   "execution_count": 33,
   "metadata": {},
   "outputs": [
    {
     "name": "stdout",
     "output_type": "stream",
     "text": [
      "Confusion Matrix -> \n",
      " [[ 8660  2021     3    39]\n",
      " [  742 22916    17    54]\n",
      " [  200   710   541     9]\n",
      " [  511  1568     3  1406]]\n",
      "\n",
      "Accuracy->  0.8508375634517766\n"
     ]
    }
   ],
   "source": [
    "pred_train_bow=clf_bow.predict(train_bow)\n",
    "\n",
    "print('Confusion Matrix -> \\n',confusion_matrix(y_train,pred_train_bow))\n",
    "print('\\nAccuracy-> ',accuracy_score(y_train,pred_train_bow))"
   ]
  },
  {
   "cell_type": "code",
   "execution_count": 60,
   "metadata": {},
   "outputs": [
    {
     "name": "stdout",
     "output_type": "stream",
     "text": [
      "Confusion Matrix -> \n",
      " [[1585 1125    3   25]\n",
      " [ 250 5683    3   11]\n",
      " [  60  225   56    4]\n",
      " [ 183  437    1  200]]\n",
      "\n",
      "Accuracy->  0.7637803268703685\n"
     ]
    }
   ],
   "source": [
    "# Measuring the performance of our model on test data\n",
    "pred_test_bow=clf_bow.predict(test_bow)\n",
    "\n",
    "print('Confusion Matrix -> \\n',confusion_matrix(y_test,pred_test_bow))\n",
    "print('\\nAccuracy-> ',accuracy_score(y_test,pred_test_bow))"
   ]
  },
  {
   "cell_type": "code",
   "execution_count": 67,
   "metadata": {},
   "outputs": [
    {
     "name": "stdout",
     "output_type": "stream",
     "text": [
      "Entertainment\n"
     ]
    }
   ],
   "source": [
    "ex_docs=['Big stars like Justin Bieber with his whole band was there and rocked the concert ,even Will Smith joined him on the stage and danced.']\n",
    "#for pre processing we can here use the process_text function and then transform the message\n",
    "abc=temp_test_bow.transform(ex_docs)\n",
    "ex_pred=clf_bow.predict(abc)\n",
    "#print(ex_pred)\n",
    "for i in ex_pred:\n",
    "    if(i==0):\n",
    "        print(\"Entertainment\")\n",
    "    if(i==1):\n",
    "        print(\"Politics\")\n",
    "    if(i==2):\n",
    "        print(\"Science\")\n",
    "    if(i==3):\n",
    "        print(\"Sports\")"
   ]
  }
 ],
 "metadata": {
  "kernelspec": {
   "display_name": "Python 3",
   "language": "python",
   "name": "python3"
  },
  "language_info": {
   "codemirror_mode": {
    "name": "ipython",
    "version": 3
   },
   "file_extension": ".py",
   "mimetype": "text/x-python",
   "name": "python",
   "nbconvert_exporter": "python",
   "pygments_lexer": "ipython3",
   "version": "3.7.6"
  }
 },
 "nbformat": 4,
 "nbformat_minor": 4
}
